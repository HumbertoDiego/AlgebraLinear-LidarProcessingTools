{
 "cells": [
  {
   "cell_type": "markdown",
   "id": "d7649f14",
   "metadata": {},
   "source": [
    "[![Open In Colab](https://colab.research.google.com/assets/colab-badge.svg)](https://colab.research.google.com/github/HumbertoDiego/AlgebraLinear-SFMTools/blob/main/fototri_mmi.ipynb)"
   ]
  },
  {
   "cell_type": "markdown",
   "id": "a10b9c3f",
   "metadata": {},
   "source": [
    "# Fototriangulação pelo método dos modelos independentes"
   ]
  },
  {
   "cell_type": "markdown",
   "id": "86596d14",
   "metadata": {},
   "source": [
    "Geração de dois ou mais modelos fotogramétricos separadamente, cada um com seu próprio sistema de coordenadas, e depois alinhados (ajustados) entre si para formar uma rede contínua de pontos."
   ]
  },
  {
   "cell_type": "markdown",
   "id": "cd280eea",
   "metadata": {},
   "source": [
    "![image.png](data/image.png)"
   ]
  },
  {
   "cell_type": "markdown",
   "id": "a2d08872",
   "metadata": {},
   "source": [
    "## Sumário\n",
    "\n",
    "$\\rightarrow$ 1. Coleta de pontos de controle no terreno (GCP)\n",
    "\n",
    "☐ 2. Orientação exterior\n",
    "\n",
    "☐ 3. Orientação relativa: Ajustamento entre pares de fotos para recriar a geometria do voo (inclinação, rotação, diferença de altura, etc.) resultando no estereomodelo.\n",
    "\n",
    "☐ 4. Ligação dos modelos: Depois que vários modelos independentes são criados, eles são ajustados entre si usando pontos em comum (pontos de amarração)\n"
   ]
  },
  {
   "cell_type": "markdown",
   "id": "b454fbf7",
   "metadata": {},
   "source": [
    "| Abertura de clareira      | Medição da coordenada      | Plotagem |\n",
    "| ------------- | ------------- | --------|\n",
    "| ![image2.png](data/image2.png) | ![image3.png](data/image3.png) | ![image4.png](data/image4.png) |"
   ]
  },
  {
   "cell_type": "code",
   "execution_count": 21,
   "id": "406bba41",
   "metadata": {},
   "outputs": [
    {
     "data": {
      "text/html": [
       "\n",
       "<video width=\"800\" controls>\n",
       "  <source src=\"data\\coleta de pontos.mp4\" type=\"video/mp4\">\n",
       "  Your browser does not support the video tag.\n",
       "</video>\n"
      ],
      "text/plain": [
       "<IPython.core.display.HTML object>"
      ]
     },
     "execution_count": 21,
     "metadata": {},
     "output_type": "execute_result"
    }
   ],
   "source": [
    "import requests \n",
    "import re\n",
    "import os\n",
    "\n",
    "url = \"https://drive.usercontent.google.com/download?id=1awR3k-sXaKCcYMwS3dcU6bVTQLZYaFHQ&export=download&authuser=0\"\n",
    "r = requests.get(url)\n",
    "\n",
    "if r.status_code == 200:\n",
    "    # Get filename from Content-Disposition header\n",
    "    filename = 'downloaded_file.mp4'\n",
    "    content_disposition = r.headers.get('Content-Disposition') \n",
    "    # attachment; filename=\"coleta de pontos.mp4\"\n",
    "    if content_disposition:\n",
    "        match = re.search(r'filename=\"(.+)\"', content_disposition)\n",
    "        if match:\n",
    "            filename = match.group(1)\n",
    "    video_path = os.path.join(\"data\", filename)\n",
    "    if not os.path.exists(video_path):\n",
    "        # Open a file in write-binary mode\n",
    "        with open(video_path, 'wb') as file:\n",
    "            # Write the content of the response to the file\n",
    "            file.write(r.content)\n",
    "        print(\"File downloaded and saved successfully.\")\n",
    "else:\n",
    "    print(f\"Failed to download file. Status code: {r.status_code}\")\n",
    "\n",
    "# Play movie\n",
    "from IPython.display import HTML\n",
    "HTML(f\"\"\"\n",
    "<video width=\"800\" controls>\n",
    "  <source src=\"{video_path}\" type=\"video/mp4\">\n",
    "  Your browser does not support the video tag.\n",
    "</video>\n",
    "\"\"\")"
   ]
  },
  {
   "cell_type": "markdown",
   "id": "2f17d426",
   "metadata": {},
   "source": [
    "## Sumário\n",
    "\n",
    "☑ 1. Coleta de pontos de controle no terreno (GCP)\n",
    "\n",
    "$\\rightarrow$ 2. Orientação relativa: Ajustamento entre pares de fotos para recriar a geometria do voo (inclinação, rotação, diferença de altura, etc.) resultando no estereomodelo.\n",
    "\n",
    "☐ 3. Orientação externa \n",
    "\n",
    "☐ 4. Ligação dos modelos: Depois que vários modelos independentes são criados, eles são ajustados entre si usando pontos em comum (pontos de amarração)\n"
   ]
  },
  {
   "cell_type": "markdown",
   "id": "d81e2efc",
   "metadata": {},
   "source": []
  }
 ],
 "metadata": {
  "kernelspec": {
   "display_name": "base",
   "language": "python",
   "name": "python3"
  },
  "language_info": {
   "codemirror_mode": {
    "name": "ipython",
    "version": 3
   },
   "file_extension": ".py",
   "mimetype": "text/x-python",
   "name": "python",
   "nbconvert_exporter": "python",
   "pygments_lexer": "ipython3",
   "version": "3.12.3"
  }
 },
 "nbformat": 4,
 "nbformat_minor": 5
}
